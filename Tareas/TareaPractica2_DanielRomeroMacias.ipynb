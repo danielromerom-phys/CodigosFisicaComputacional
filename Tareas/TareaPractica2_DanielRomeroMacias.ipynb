{
 "cells": [
  {
   "cell_type": "markdown",
   "id": "b1b8c838-2729-4a69-8c39-661dc5db39e4",
   "metadata": {},
   "source": [
    "# Tarea-Práctica 2.\n",
    "\n",
    "## Fundamentos de programación para la Física Computacional"
   ]
  },
  {
   "cell_type": "markdown",
   "id": "53eaa65d-2283-450c-af36-1ef489aa3e2d",
   "metadata": {},
   "source": [
    "## 1. La constante de Madelung\n",
    "\n",
    "En física de la materia condensada, la constante de Madelung da el potencial eléctrico total que siente un átomo en un sólido; y depende de las cargas de los otros átomos cercanos y de sus ubicaciones.\n",
    "\n",
    "Por ejemplo, el cristal de cloruro de sodio sólido (la sal de mesa), tiene átomos dispuestos en una red cúbica, con átomos de sodio y cloro alternados, teniendo los de sodio una carga positiva +e y los de cloro una negativa −e, (donde e es la carga del electrón). Si etiquetamos cada posición en la red con tres coordenadas enteras (i, j, k), entonces los átomos de sodio caen en posiciones donde i + j + k es par, y los átomos de cloro en posiciones donde i + j + k es impar.\n",
    "\n",
    "Consideremos un atomo de sodio en el origen, i.e. i = j = k = 0, y calculemos la constante de Madelung. Si el espaciado de los átomos en la red es a, entonces la distancia desde el origen al átomo en la posición (i, j, k) es:\n",
    "\n",
    "$\\sqrt{(ia)^2+(ja)^2+(ka)^2} = a\\sqrt{i^2+j^2+k^2}$\n",
    "\n",
    "y el potencial en el origen creado por tal atomo es:\n",
    "\n",
    "$V(i,j,k) = \\pm \\frac{e}{4 \\pi \\epsilon_{0} a \\sqrt{i^2+j^2+k^2}}M $\n",
    "\n",
    "siendo $\\epsilon_{0}$ la permitividad del vacío y el signo de la expresión se toma dependiendo de si i + j + k es par o impar. Así entonces, el potencial total que siente el atomo de sodio es la suma de esta cantidad sobre todos los demás átomos. Supongamos una caja cúbica alrededor del átomo de sodio en el origen, con L átomos en todas las direcciones, entonces:\n",
    "\n",
    "$V_{Total} = \\sum_{i,j,k=-L}^{L}V(i,j,k) = \\frac{e}{4 \\pi \\epsilon_{0} a}M $\n",
    "\n",
    "donde M es la constante de Madelung (al menos aproximadamente).\n",
    "\n",
    "Técnicamente, la constante de Madelung es el valor de M cuando L → ∞, pero se puede obtener una buena aproximación simplemente usando un valor grande de L. \n",
    "\n",
    "Escribe un programa para calcular e imprimir la constante de Madelung para el cloruro de sodio. Utiliza un valor de L tan grande como puedas, permitiendo que tu programa se ejecute en un tiempo razonable (un minuto o menos)."
   ]
  },
  {
   "cell_type": "code",
   "execution_count": null,
   "id": "d4471f02-817d-4e13-8a41-fad82373eac0",
   "metadata": {},
   "outputs": [],
   "source": [
    "# Importación de bibliotecas\n",
    "import numpy as np\n",
    "import math as mt"
   ]
  },
  {
   "cell_type": "code",
   "execution_count": null,
   "id": "067c3323-81a6-4300-ad93-397ebb068b9e",
   "metadata": {},
   "outputs": [],
   "source": [
    "# Función que arroja la constante de Madelung para una red de átomos de cloruro de sodio con un sodio centrado en el origen\n",
    "\n",
    "def madelung(L):\n",
    "\n",
    "    V = 0\n",
    "\n",
    "    for i in range(-L, L+1, 1):\n",
    "        for j in range(-L, L+1, 1):\n",
    "            for k in range(-L, L+1, 1):\n",
    "                \n",
    "                if((i == 0) & (j == 0) & (k == 0)):\n",
    "                    V = V # Caso cuando las tres variables espaciales son 0, para saltar el caso indefinido.\n",
    "                elif((i+j+k)%2 == 0): \n",
    "                    V = 1/np.sqrt((i**2)+(j**2)+(k**2)) + V # Potencial en el origen creado por el átomo de sodio si i+j+k es par\n",
    "                else:\n",
    "                    V = -1/np.sqrt((i**2)+(j**2)+(k**2)) + V # Potencial en el origen creado por el átomo de sodio si i+j+k es impar\n",
    "\n",
    "    M = V\n",
    "\n",
    "    print(\"La constante de Madelung para el Cloruro de Sodio es de:\", M)"
   ]
  },
  {
   "cell_type": "code",
   "execution_count": null,
   "id": "8cbe28b9-2d90-471c-886b-c9300fe8846b",
   "metadata": {},
   "outputs": [],
   "source": [
    "madelung(100) "
   ]
  },
  {
   "cell_type": "markdown",
   "id": "a80ce90a-ce67-4a47-8b60-c6731062a49f",
   "metadata": {},
   "source": [
    "### ---------------------------------------------------------------------------------------------------------------------------"
   ]
  },
  {
   "cell_type": "markdown",
   "id": "9fafbffe-00f1-42d8-b9d2-dece539e1ac5",
   "metadata": {},
   "source": [
    "## 2. La fórmula semiempírica de la masa (FSM)\n",
    "\n",
    "En física nuclear, la fórmula de Weizsaäcker (conocida también como fórmula semiempírica) sirve para evaluar la masa y otras propiedades de un núcleo atómico; y está basada parcialmente en mediciones empíricas. En particular la fórmula se usa para calcular la energía de enlace nuclear aproximada B, de un núcleo atómico con número atómico Z y número de masa A:\n",
    "\n",
    "$B = a_{1}A - a_{2}A^{2/3} - a_{3} \\frac{Z^2}{A^{1/3}} - a_{4} \\frac{(A-2Z)^{2}}{A} + \\frac{a_5}{A^{1/2}}$\n",
    "\n",
    "donde, en unidades de millones de electron-volts, las constantes son $a_1$ = 15.8, $a_2$ =\n",
    "18.3, $a_3$ = 0.714, $a_4$ = 23.2 y:\n",
    "\n",
    "$ a_5 = \n",
    "    \\begin{cases}\n",
    "        \\text{0,} &\\quad\\text{si A es impar} \\\\\n",
    "        \\text{12.0,} &\\quad\\text{si A y Z son pares (ambos)} \\\\\n",
    "        \\text{-12.0,} &\\quad\\text{si A es par y Z es impar} \\\\\n",
    "    \\end{cases} $\n",
    "\n",
    "a) Escribe un programa que tome como entrada los valores de A y Z, e imprima la energía de enlace B para el átomo correspondiente. Usa tu programa para encontrar la energía de enlace de un átomo con A = 58 y Z = 28 (Hint: La respuesta correcta es alrededor de los 490 MeV).\n",
    "\n",
    "b) Modifica el programa del inciso anterior, para escribir una segunda versión que imprima no la energía de enlace total B, sino la energía de unión por nucleón, que es B/A.\n",
    "\n",
    "c) Escribe una tercera versión del programa para que tome como entrada solo un valor del número atómico Z y luego pase por todos los valores de A desde A = Z hasta A = 3Z, para encontrar el que tiene la mayor energía de enlace por nucleón. Este es el núcleo más estable con el número atómico dado. Haz que tu programa imprima el valor de A para este núcleo más estable y el valor de la energía de enlace por nucleón.\n",
    "\n",
    "d) Finalmente, escribe una cuarta versión del programa que, en lugar de tomar Z como entrada, se ejecute a través de todos los valores de Z de 1 a 100 e imprima el valor más estable de A para cada uno. ¿A qué valor de Z se produce la energía de enlace máxima por nucleón? (La respuesta correcta, en la vida real, es Z = 28, que corresponde al Níquel)."
   ]
  },
  {
   "cell_type": "code",
   "execution_count": null,
   "id": "823bdcc3-8977-47a5-9c2d-226b62dd1477",
   "metadata": {},
   "outputs": [],
   "source": [
    "# Variables Globales\n",
    "\n",
    "a1 = 15.8\n",
    "a2 = 18.3\n",
    "a3 = 0.714\n",
    "a4 = 23.2"
   ]
  },
  {
   "cell_type": "code",
   "execution_count": null,
   "id": "45e16a86-57fb-44be-a9e2-4406c4e904c8",
   "metadata": {},
   "outputs": [],
   "source": [
    "# Función para el inciso a) que toma de entrada valores de A y Z y retornna la energía de enlace B del átomo correspondiente.\n",
    "\n",
    "def FSM_B_a(A, Z):\n",
    "    \n",
    "    if (A%2 != 0):\n",
    "        a5 = 0\n",
    "    elif (A%2 == 0 & Z%2 == 0):\n",
    "        a5 = 12\n",
    "    elif (A%2 == 0 & Z%2 != 0):\n",
    "        a5 = -12\n",
    "\n",
    "    B = (a1*A) - (a2*(A**(2/3))) - ((a3*(Z**2))/(A**(1/3))) - ((a4*((A-2*Z)**2))/A) + (a5/(A**(1/2)))\n",
    "\n",
    "    print(\"La energía de enlace del átomo es de:\", B, \"MeV\")"
   ]
  },
  {
   "cell_type": "code",
   "execution_count": null,
   "id": "f3aa9d57-e367-4810-b34e-3637ff9d5f17",
   "metadata": {},
   "outputs": [],
   "source": [
    "FSM_B_a(58, 28)"
   ]
  },
  {
   "cell_type": "code",
   "execution_count": null,
   "id": "8b0615f6-7b49-406b-a41c-9fb1f5761313",
   "metadata": {},
   "outputs": [],
   "source": [
    "# Función para el inciso b) que toma de entrada valores de A y Z y retornna la energía de unión por nucleón, que es B/A.\n",
    "\n",
    "def FSM_B_b(A, Z):\n",
    "    \n",
    "    if (A%2 != 0):\n",
    "        a5 = 0\n",
    "    elif (A%2 == 0 & Z%2 == 0):\n",
    "        a5 = 12\n",
    "    elif (A%2 == 0 & Z%2 != 0):\n",
    "        a5 = -12\n",
    "\n",
    "    B = (a1*A) - (a2*(A**(2/3))) - ((a3*(Z**2))/(A**(1/3))) - ((a4*((A-2*Z)**2))/A) + (a5/(A**(1/2)))\n",
    "    \n",
    "    print(\"La energía de unión por nucleón del átomo es de: \", B/A, \"MeV por nucleón.\")"
   ]
  },
  {
   "cell_type": "code",
   "execution_count": null,
   "id": "c0005172-abbb-43eb-8ad4-2916a267c5ba",
   "metadata": {},
   "outputs": [],
   "source": [
    "FSM_B_b(84, 28)"
   ]
  },
  {
   "cell_type": "code",
   "execution_count": null,
   "id": "2c099e3c-28f0-4cc7-b936-ac49b3edc58b",
   "metadata": {},
   "outputs": [],
   "source": [
    "# Función para el inciso c) que pasa por A=Z hasta A=3Z, compara el que tiene mayor energía de enlace por nucleón \n",
    "# y retorna el valor de A y la energía de enlace por nucleón B/A de dicho átomo con mayor energía de enlace por nucleón.\n",
    "\n",
    "def FSM_B_c(Z):\n",
    "\n",
    "    A2 = 0\n",
    "    EUN2 = 0\n",
    "\n",
    "    for j in range(1, 4, 1):\n",
    "        \n",
    "        A1 = j*Z\n",
    "        \n",
    "        if (A1%2 != 0):\n",
    "            a5 = 0\n",
    "        elif (A1%2 == 0 & Z%2 == 0):\n",
    "            a5 = 12\n",
    "        elif (A1%2 == 0 & Z%2 != 0):\n",
    "            a5 = -12\n",
    "        \n",
    "        B = (a1*A1) - (a2*(A1**(2/3))) - ((a3*(Z**2))/(A1**(1/3))) - ((a4*((A1-2*Z)**2))/A1) + (a5/(A1**(1/2)))\n",
    "\n",
    "        EUN1 = B/A1\n",
    "\n",
    "        print(\"Iteración\", j, \": Número de masa\", A1, \"y energía de enlace por nucleón\", EUN1, \"\\n\")\n",
    "        \n",
    "        if (EUN1 > EUN2):\n",
    "            EUN = EUN1\n",
    "            EUN2 = EUN1\n",
    "            A = A1\n",
    "            A2 = A1\n",
    "        else:\n",
    "            EUN = EUN2\n",
    "            A = A2\n",
    "\n",
    "    print(\"El número de masa del núcleo más estable del número atómico dado es de:\", A)\n",
    "    print(\"La energía de enlace por nucleón del núcleo más estable del número atómico dado es de:\", EUN, \"MeV por nucleón\")"
   ]
  },
  {
   "cell_type": "code",
   "execution_count": null,
   "id": "dad13289-2c1c-4467-b8dd-3c11a5581509",
   "metadata": {},
   "outputs": [],
   "source": [
    "FSM_B_c(28)"
   ]
  },
  {
   "cell_type": "code",
   "execution_count": null,
   "id": "aa0a0dc0-22f1-49b6-b3ae-76cc5e60fb6f",
   "metadata": {},
   "outputs": [],
   "source": [
    "# Función para el inciso d) que toma de entrada el valor Z, pasa por Z=1 hasta Z=100, asigna valores de A=Z hasta A=3Z, compara el que tiene mayor \n",
    "# energía de enlace por nucleón y retorna el valor de A y la energía de enlace por nucleón B/A de dicho átomo con mayor energía de enlace por nucleón.\n",
    "\n",
    "def FSM_B_d():\n",
    "\n",
    "    Z2 = 0\n",
    "\n",
    "    for z in range(1, 101, 1):\n",
    "        \n",
    "        A2 = 0\n",
    "        EUN2 = 0\n",
    "\n",
    "        for j in range(1, 4, 1):\n",
    "            \n",
    "            A1 = j*z\n",
    "            \n",
    "            if (A1%2 != 0):\n",
    "                a5 = 0\n",
    "            elif (A1%2 == 0 & z%2 == 0):\n",
    "                a5 = 12\n",
    "            elif (A1%2 == 0 & z%2 != 0):\n",
    "                a5 = -12\n",
    "            \n",
    "            B = (a1*A1) - (a2*(A1**(2/3))) - ((a3*(z**2))/(A1**(1/3))) - ((a4*((A1-2*z)**2))/A1) + (a5/(A1**(1/2)))\n",
    "    \n",
    "            EUN1 = B/A1\n",
    "        \n",
    "            if (EUN1 > EUN2):\n",
    "                EUN = EUN1\n",
    "                EUN2 = EUN1\n",
    "                A = A1\n",
    "                A2 = A1\n",
    "                Z = z\n",
    "                Z2 = z\n",
    "            else:\n",
    "                EUN = EUN2\n",
    "                A = A2\n",
    "                Z = Z2\n",
    "\n",
    "        print(\"Número atómico:\", Z)\n",
    "        print(\"El número de masa del núcleo más estable del número atómico dado es de:\", A)\n",
    "        print(\"La energía de enlace por nucleón del núcleo más estable del número atómico dado es de:\", EUN, \"MeV por nucleón \\n\")"
   ]
  },
  {
   "cell_type": "code",
   "execution_count": null,
   "id": "1bc97bad-1c62-4690-967c-e68ae4d1df81",
   "metadata": {},
   "outputs": [],
   "source": [
    "FSM_B_d()"
   ]
  },
  {
   "cell_type": "markdown",
   "id": "7a496ad7-c21c-435d-82c2-0b9376c03fb9",
   "metadata": {},
   "source": [
    "El programa arroja que para Z = 25 se produce la energía de enlace máxima por nucleón, que corresponde con el Manganeso. Esto difiere en en tres posiciones atrás que el real, Z = 28 correspondiente al Níquel."
   ]
  },
  {
   "cell_type": "markdown",
   "id": "1113ef46-a8e8-4dcd-b410-dc6711123004",
   "metadata": {},
   "source": [
    "### ---------------------------------------------------------------------------------------------------------------------------"
   ]
  },
  {
   "cell_type": "markdown",
   "id": "09c38b3f-8393-4b9e-bee2-22351feebd4b",
   "metadata": {},
   "source": [
    "## 3. Coeficientes binomiales\n",
    "\n",
    "El coeficiente binomial $\\binom{n}{k}$ es un número entero igual a:\n",
    "\n",
    "$\\binom{n}{k} = \\frac{n!}{k!(n-k)!} = \\frac{n \\times (n-1) \\times (n-2) \\times ... \\times (n-k+1)}{1 \\times 2 \\times ... \\times k}$\n",
    "\n",
    "donde $k \\geq 1$, o bien $\\binom{n}{0} = 1$ cuando $k = 0$.\n",
    "\n",
    "a) Utiliza esta fórmula para escribir una función llamada binomial(n,k) (o como tu quieras) que calcule el coeficiente binomial para un n y k dados. Asegurate de que tu función devuelva la respuesta en forma de un número entero (no flotante) y proporcione el valor correcto de 1 para el caso en que k = 0\n",
    "\n",
    "b) Usando tu función, escribe un programa que imprima las primeras 20 líneas del “triángulo de Pascal’’. La n-ésima línea del triángulo de Pascal contiene $n + 1$ números, que son los coeficientes $\\binom{n}{0}$, $\\binom{n}{1}$, y así sucesivamente hasta $\\binom{n}{n}$. De tal manera que las primeras líneas son:\n",
    "\n",
    "$ 1 2 1 $\n",
    "\n",
    "$ 1 3 3 1 $\n",
    "\n",
    "$ 1 4 6 4 1 $\n",
    "\n",
    "c) La probabilidad de que para una moneda no sesgada, lanzada n veces, salga aguila k veces es:\n",
    "\n",
    "$p(k|n) = \\frac{\\binom{n}{k}}{2^{n}}$\n",
    "\n",
    "Escribe un programa para calcular:\n",
    "\n",
    "1) La probabilidad total de que una moneda lanzada 100 veces, salga águila exactamente 60 veces.\n",
    "2) La probabilidad de que salga águila 60 veces o más."
   ]
  },
  {
   "cell_type": "code",
   "execution_count": null,
   "id": "e198597f-035f-4743-9735-4046efc12105",
   "metadata": {},
   "outputs": [],
   "source": [
    "# Solución de 3. a): Función que calcula el coeficiente binomial\n",
    "\n",
    "def binomial(n, k):\n",
    "\n",
    "    if((k<0) or (n<0)):\n",
    "        print(\"Introduzca valores permitidos: k>=0 y n>=0\")\n",
    "        binomial_coef = 0\n",
    "    elif k>n:\n",
    "        print(\"Introduzca valores permitidos: k>=0 y n>=0\")\n",
    "        binomial_coef = 0\n",
    "    elif k == 0:\n",
    "        binomial_coef = 1\n",
    "    else: \n",
    "        binomial_coef = int(mt.factorial(n)/(mt.factorial(k)*mt.factorial(n-k)))\n",
    "        \n",
    "    return(binomial_coef)"
   ]
  },
  {
   "cell_type": "code",
   "execution_count": null,
   "id": "4637a484-92cc-42ef-a728-5b4199835c38",
   "metadata": {},
   "outputs": [],
   "source": [
    "binomial(2, 0)"
   ]
  },
  {
   "cell_type": "code",
   "execution_count": null,
   "id": "fde8e5c5-36e0-44f7-810f-fe0a4267ce84",
   "metadata": {},
   "outputs": [],
   "source": [
    "# Solución de 3. b): Programa que imprime las primeras 20 líneas del triángulo de Pascal\n",
    "\n",
    "for i in range(1, 5, 1):\n",
    "    for j in range(0, i+1, 1):\n",
    "        bin_coef = binomial(i,j)\n",
    "        print(bin_coef, end=\" \")\n",
    "    print(\"\\n\")"
   ]
  },
  {
   "cell_type": "code",
   "execution_count": null,
   "id": "e7e1270c-e0ca-4e07-8aa1-75804ced212c",
   "metadata": {},
   "outputs": [],
   "source": [
    "# Solución de 3. c): \n",
    "\n",
    "# 1. Programa para calcular la probabilidad total de que una moneda lanzada 100 veces, salga aguila exactamente 60 veces\n",
    "\n",
    "p_k_n_1 = binomial(100, 60)/(2**100)\n",
    "\n",
    "print(\"La probabilidad de que en una moneda lanzada 100 veces salga águila 60 es de:\", p_k_n_1)"
   ]
  },
  {
   "cell_type": "code",
   "execution_count": null,
   "id": "940d5c97-8912-41f4-9d29-79fef16d12fd",
   "metadata": {},
   "outputs": [],
   "source": [
    "# Solución de 3. c): \n",
    "\n",
    "# 2. Programa para calcular la probabilidad de que salga aguila 60 veces o más.\n",
    "\n",
    "p_k_n_2 = 0\n",
    "\n",
    "for k in range(60,101,1):\n",
    "    p_k_n_2 = binomial(100, k)/(2**100) + p_k_n_2\n",
    "\n",
    "print(\"La probabilidad de que en una moneda lanzada 100 veces salga águila 60 veces o más es de:\", p_k_n_2)"
   ]
  },
  {
   "cell_type": "markdown",
   "id": "72e08609-f151-4c01-a746-fb2b3e173a50",
   "metadata": {},
   "source": [
    "### ---------------------------------------------------------------------------------------------------------------------------"
   ]
  },
  {
   "cell_type": "markdown",
   "id": "6d1ae164-8873-4d74-af96-eff8b4ae8655",
   "metadata": {},
   "source": [
    "## 4. Números Primos\n",
    "\n",
    "Una manera no muy eficiente para calcular numeros primos, es comprobar si cada número es divisible por cualquier número menor que él. Sin embargo, es posible escribir un programa mucho mas rápido para números primos utilizando las siguientes observaciones:\n",
    "\n",
    "a) Un número n es primo si no tiene factores primos menores que n. Por lo tanto, solo necesitamos comprobar si es divisible por otros primos.\n",
    "\n",
    "b) Si un número $n$ no es primo, con un factor $r$, entonces $n = rs$, donde $s$ también es un factor. Si $r \\gt \\sqrt{n}$, entonces $n = rs \\gt \\sqrt{ns}$, lo que implica que $s \\lt \\sqrt{n}$. En otras palabras, cualquier número no primo debe tener factores, y por lo tanto también factores primos, menores o iguales a $\\sqrt{n}$. Por lo tanto, para determinar si un número es primo, debemos comprobar sus factores primos solo hasta\n",
    "$\\sqrt{n}$ inclusive; si no hay ninguno, entonces el número es primo.\n",
    "\n",
    "c) Si encontramos incluso un solo factor primo menor que $\\sqrt{n}$, sabemos que el número no es primo y, por lo tanto, no hay necesidad de comprobar más; podemos descartar este número y pasar a otro.\n",
    "\n",
    "Escribe un programa que encuentre todos los primos hasta diez mil. \n",
    "\n",
    "Crea una lista para almacenar los primos, que comience sólo con el número 2. Luego, para cada número $n$ del 3 al 10,000 comprueba si es divisible por alguno de los primos de la lista hasta $\\sqrt{n}$. En cuanto encuentres un factor primo, puedes dejar de revisar los demás; pues ya sabes que n no es primo.\n",
    "\n",
    "Si no encuentras ningun factor primo $\\sqrt{n}$ o menor, entonces $n$ es primo y debes anadirlo a la lista.\n",
    "\n",
    "Puedes imprimir la lista completa al final del programa o imprimir los numeros individuales a medida que los encuentras."
   ]
  },
  {
   "cell_type": "code",
   "execution_count": 54,
   "id": "5c420f54-5318-48c5-a48f-e7ca8d107e14",
   "metadata": {},
   "outputs": [
    {
     "name": "stdout",
     "output_type": "stream",
     "text": [
      "[3, 5, 7, 11, 13, 17, 19, 23, 29, 31, 37, 41, 43, 47, 53, 59, 61, 67, 71, 73, 79, 83, 89, 97, 101, 103, 107, 109, 113, 127, 131, 137, 139, 149, 151, 157, 163, 167, 173, 179, 181, 191, 193, 197, 199, 211, 223, 227, 229, 233, 239, 241, 251, 257, 263, 269, 271, 277, 281, 283, 293, 307, 311, 313, 317, 331, 337, 347, 349, 353, 359, 367, 373, 379, 383, 389, 397, 401, 409, 419, 421, 431, 433, 439, 443, 449, 457, 461, 463, 467, 479, 487, 491, 499, 503, 509, 521, 523, 541, 547, 557, 563, 569, 571, 577, 587, 593, 599, 601, 607, 613, 617, 619, 631, 641, 643, 647, 653, 659, 661, 673, 677, 683, 691, 701, 709, 719, 727, 733, 739, 743, 751, 757, 761, 769, 773, 787, 797, 809, 811, 821, 823, 827, 829, 839, 853, 857, 859, 863, 877, 881, 883, 887, 907, 911, 919, 929, 937, 941, 947, 953, 967, 971, 977, 983, 991, 997, 1009, 1013, 1019, 1021, 1031, 1033, 1039, 1049, 1051, 1061, 1063, 1069, 1087, 1091, 1093, 1097, 1103, 1109, 1117, 1123, 1129, 1151, 1153, 1163, 1171, 1181, 1187, 1193, 1201, 1213, 1217, 1223, 1229, 1231, 1237, 1249, 1259, 1277, 1279, 1283, 1289, 1291, 1297, 1301, 1303, 1307, 1319, 1321, 1327, 1361, 1367, 1373, 1381, 1399, 1409, 1423, 1427, 1429, 1433, 1439, 1447, 1451, 1453, 1459, 1471, 1481, 1483, 1487, 1489, 1493, 1499, 1511, 1523, 1531, 1543, 1549, 1553, 1559, 1567, 1571, 1579, 1583, 1597, 1601, 1607, 1609, 1613, 1619, 1621, 1627, 1637, 1657, 1663, 1667, 1669, 1693, 1697, 1699, 1709, 1721, 1723, 1733, 1741, 1747, 1753, 1759, 1777, 1783, 1787, 1789, 1801, 1811, 1823, 1831, 1847, 1861, 1867, 1871, 1873, 1877, 1879, 1889, 1901, 1907, 1913, 1931, 1933, 1949, 1951, 1973, 1979, 1987, 1993, 1997, 1999, 2003, 2011, 2017, 2027, 2029, 2039, 2053, 2063, 2069, 2081, 2083, 2087, 2089, 2099, 2111, 2113, 2129, 2131, 2137, 2141, 2143, 2153, 2161, 2179, 2203, 2207, 2213, 2221, 2237, 2239, 2243, 2251, 2267, 2269, 2273, 2281, 2287, 2293, 2297, 2309, 2311, 2333, 2339, 2341, 2347, 2351, 2357, 2371, 2377, 2381, 2383, 2389, 2393, 2399, 2411, 2417, 2423, 2437, 2441, 2447, 2459, 2467, 2473, 2477, 2503, 2521, 2531, 2539, 2543, 2549, 2551, 2557, 2579, 2591, 2593, 2609, 2617, 2621, 2633, 2647, 2657, 2659, 2663, 2671, 2677, 2683, 2687, 2689, 2693, 2699, 2707, 2711, 2713, 2719, 2729, 2731, 2741, 2749, 2753, 2767, 2777, 2789, 2791, 2797, 2801, 2803, 2819, 2833, 2837, 2843, 2851, 2857, 2861, 2879, 2887, 2897, 2903, 2909, 2917, 2927, 2939, 2953, 2957, 2963, 2969, 2971, 2999, 3001, 3011, 3019, 3023, 3037, 3041, 3049, 3061, 3067, 3079, 3083, 3089, 3109, 3119, 3121, 3137, 3163, 3167, 3169, 3181, 3187, 3191, 3203, 3209, 3217, 3221, 3229, 3251, 3253, 3257, 3259, 3271, 3299, 3301, 3307, 3313, 3319, 3323, 3329, 3331, 3343, 3347, 3359, 3361, 3371, 3373, 3389, 3391, 3407, 3413, 3433, 3449, 3457, 3461, 3463, 3467, 3469, 3491, 3499, 3511, 3517, 3527, 3529, 3533, 3539, 3541, 3547, 3557, 3559, 3571, 3581, 3583, 3593, 3607, 3613, 3617, 3623, 3631, 3637, 3643, 3659, 3671, 3673, 3677, 3691, 3697, 3701, 3709, 3719, 3727, 3733, 3739, 3761, 3767, 3769, 3779, 3793, 3797, 3803, 3821, 3823, 3833, 3847, 3851, 3853, 3863, 3877, 3881, 3889, 3907, 3911, 3917, 3919, 3923, 3929, 3931, 3943, 3947, 3967, 3989, 4001, 4003, 4007, 4013, 4019, 4021, 4027, 4049, 4051, 4057, 4073, 4079, 4091, 4093, 4099, 4111, 4127, 4129, 4133, 4139, 4153, 4157, 4159, 4177, 4201, 4211, 4217, 4219, 4229, 4231, 4241, 4243, 4253, 4259, 4261, 4271, 4273, 4283, 4289, 4297, 4327, 4337, 4339, 4349, 4357, 4363, 4373, 4391, 4397, 4409, 4421, 4423, 4441, 4447, 4451, 4457, 4463, 4481, 4483, 4493, 4507, 4513, 4517, 4519, 4523, 4547, 4549, 4561, 4567, 4583, 4591, 4597, 4603, 4621, 4637, 4639, 4643, 4649, 4651, 4657, 4663, 4673, 4679, 4691, 4703, 4721, 4723, 4729, 4733, 4751, 4759, 4783, 4787, 4789, 4793, 4799, 4801, 4813, 4817, 4831, 4861, 4871, 4877, 4889, 4903, 4909, 4919, 4931, 4933, 4937, 4943, 4951, 4957, 4967, 4969, 4973, 4987, 4993, 4999, 5003, 5009, 5011, 5021, 5023, 5039, 5051, 5059, 5077, 5081, 5087, 5099, 5101, 5107, 5113, 5119, 5147, 5153, 5167, 5171, 5179, 5189, 5197, 5209, 5227, 5231, 5233, 5237, 5261, 5273, 5279, 5281, 5297, 5303, 5309, 5323, 5333, 5347, 5351, 5381, 5387, 5393, 5399, 5407, 5413, 5417, 5419, 5431, 5437, 5441, 5443, 5449, 5471, 5477, 5479, 5483, 5501, 5503, 5507, 5519, 5521, 5527, 5531, 5557, 5563, 5569, 5573, 5581, 5591, 5623, 5639, 5641, 5647, 5651, 5653, 5657, 5659, 5669, 5683, 5689, 5693, 5701, 5711, 5717, 5737, 5741, 5743, 5749, 5779, 5783, 5791, 5801, 5807, 5813, 5821, 5827, 5839, 5843, 5849, 5851, 5857, 5861, 5867, 5869, 5879, 5881, 5897, 5903, 5923, 5927, 5939, 5953, 5981, 5987, 6007, 6011, 6029, 6037, 6043, 6047, 6053, 6067, 6073, 6079, 6089, 6091, 6101, 6113, 6121, 6131, 6133, 6143, 6151, 6163, 6173, 6197, 6199, 6203, 6211, 6217, 6221, 6229, 6247, 6257, 6263, 6269, 6271, 6277, 6287, 6299, 6301, 6311, 6317, 6323, 6329, 6337, 6343, 6353, 6359, 6361, 6367, 6373, 6379, 6389, 6397, 6421, 6427, 6449, 6451, 6469, 6473, 6481, 6491, 6521, 6529, 6547, 6551, 6553, 6563, 6569, 6571, 6577, 6581, 6599, 6607, 6619, 6637, 6653, 6659, 6661, 6673, 6679, 6689, 6691, 6701, 6703, 6709, 6719, 6733, 6737, 6761, 6763, 6779, 6781, 6791, 6793, 6803, 6823, 6827, 6829, 6833, 6841, 6857, 6863, 6869, 6871, 6883, 6899, 6907, 6911, 6917, 6947, 6949, 6959, 6961, 6967, 6971, 6977, 6983, 6991, 6997, 7001, 7013, 7019, 7027, 7039, 7043, 7057, 7069, 7079, 7103, 7109, 7121, 7127, 7129, 7151, 7159, 7177, 7187, 7193, 7207, 7211, 7213, 7219, 7229, 7237, 7243, 7247, 7253, 7283, 7297, 7307, 7309, 7321, 7331, 7333, 7349, 7351, 7369, 7393, 7411, 7417, 7433, 7451, 7457, 7459, 7477, 7481, 7487, 7489, 7499, 7507, 7517, 7523, 7529, 7537, 7541, 7547, 7549, 7559, 7561, 7573, 7577, 7583, 7589, 7591, 7603, 7607, 7621, 7639, 7643, 7649, 7669, 7673, 7681, 7687, 7691, 7699, 7703, 7717, 7723, 7727, 7741, 7753, 7757, 7759, 7789, 7793, 7817, 7823, 7829, 7841, 7853, 7867, 7873, 7877, 7879, 7883, 7901, 7907, 7919, 7927, 7933, 7937, 7949, 7951, 7963, 7993, 8009, 8011, 8017, 8039, 8053, 8059, 8069, 8081, 8087, 8089, 8093, 8101, 8111, 8117, 8123, 8147, 8161, 8167, 8171, 8179, 8191, 8209, 8219, 8221, 8231, 8233, 8237, 8243, 8263, 8269, 8273, 8287, 8291, 8293, 8297, 8311, 8317, 8329, 8353, 8363, 8369, 8377, 8387, 8389, 8419, 8423, 8429, 8431, 8443, 8447, 8461, 8467, 8501, 8513, 8521, 8527, 8537, 8539, 8543, 8563, 8573, 8581, 8597, 8599, 8609, 8623, 8627, 8629, 8641, 8647, 8663, 8669, 8677, 8681, 8689, 8693, 8699, 8707, 8713, 8719, 8731, 8737, 8741, 8747, 8753, 8761, 8779, 8783, 8803, 8807, 8819, 8821, 8831, 8837, 8839, 8849, 8861, 8863, 8867, 8887, 8893, 8923, 8929, 8933, 8941, 8951, 8963, 8969, 8971, 8999, 9001, 9007, 9011, 9013, 9029, 9041, 9043, 9049, 9059, 9067, 9091, 9103, 9109, 9127, 9133, 9137, 9151, 9157, 9161, 9173, 9181, 9187, 9199, 9203, 9209, 9221, 9227, 9239, 9241, 9257, 9277, 9281, 9283, 9293, 9311, 9319, 9323, 9337, 9341, 9343, 9349, 9371, 9377, 9391, 9397, 9403, 9413, 9419, 9421, 9431, 9433, 9437, 9439, 9461, 9463, 9467, 9473, 9479, 9491, 9497, 9511, 9521, 9533, 9539, 9547, 9551, 9587, 9601, 9613, 9619, 9623, 9629, 9631, 9643, 9649, 9661, 9677, 9679, 9689, 9697, 9719, 9721, 9733, 9739, 9743, 9749, 9767, 9769, 9781, 9787, 9791, 9803, 9811, 9817, 9829, 9833, 9839, 9851, 9857, 9859, 9871, 9883, 9887, 9901, 9907, 9923, 9929, 9931, 9941, 9949, 9967, 9973]\n"
     ]
    }
   ],
   "source": [
    "# Programa para encontrar los números primos por el método convencional\n",
    "\n",
    "primos = []\n",
    "\n",
    "for i in range(3,10001,1):\n",
    "\n",
    "    j = 2\n",
    "    p = 0\n",
    "    \n",
    "    while j<i:\n",
    "        \n",
    "        if i%j == 0:\n",
    "            j = i\n",
    "            p = 0\n",
    "            break\n",
    "        elif i%j != 0: \n",
    "            j += 1\n",
    "            p = 1\n",
    "            continue\n",
    "    if p == 1:\n",
    "        primos.append(i)\n",
    "        j = 2\n",
    "        p = 0\n",
    "\n",
    "print(primos)"
   ]
  },
  {
   "cell_type": "code",
   "execution_count": null,
   "id": "66d52b7d-81b9-453b-9e45-2fb541415662",
   "metadata": {},
   "outputs": [],
   "source": []
  },
  {
   "cell_type": "code",
   "execution_count": null,
   "id": "71307ac4-7a92-4f10-8bc3-fceb8311a428",
   "metadata": {},
   "outputs": [],
   "source": []
  }
 ],
 "metadata": {
  "kernelspec": {
   "display_name": "Python 3 (ipykernel)",
   "language": "python",
   "name": "python3"
  },
  "language_info": {
   "codemirror_mode": {
    "name": "ipython",
    "version": 3
   },
   "file_extension": ".py",
   "mimetype": "text/x-python",
   "name": "python",
   "nbconvert_exporter": "python",
   "pygments_lexer": "ipython3",
   "version": "3.13.5"
  }
 },
 "nbformat": 4,
 "nbformat_minor": 5
}
