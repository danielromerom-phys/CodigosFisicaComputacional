{
 "cells": [
  {
   "cell_type": "markdown",
   "id": "6193ff19-31e0-4d7f-a340-cd58becfe6a4",
   "metadata": {},
   "source": [
    "Física Computacional.\n",
    "Semestre 2026-1\n",
    "Daniel Romero Macias"
   ]
  },
  {
   "cell_type": "markdown",
   "id": "a791270e-7de4-4ffd-8922-b4f30ff55793",
   "metadata": {},
   "source": [
    "Tarea-Práctica 1.\n",
    "\n",
    "Programacion Básica para la Física Computacional"
   ]
  },
  {
   "cell_type": "markdown",
   "id": "1965e7e0-87d3-4bb6-b78c-610dd3384317",
   "metadata": {},
   "source": [
    "1. Altitud de un satélite: Se va a lanzar un satélite en una órbita circular alrededor de la Tierra de modo que orbite el planeta una vez cada T segundos.\n",
    "\n",
    "b) Escribe un programa que le pida al usuario que ingrese el valor deseado de T y luego calcula e imprima la altitud correcta en metros."
   ]
  },
  {
   "cell_type": "code",
   "execution_count": 1,
   "id": "4bc9c0da-70c1-4e26-9bc9-2546390d26be",
   "metadata": {},
   "outputs": [
    {
     "name": "stdin",
     "output_type": "stream",
     "text": [
      "Ingrese un valor para el periodo del satélite:  80000\n"
     ]
    },
    {
     "name": "stdout",
     "output_type": "stream",
     "text": [
      "La altura a la que estará el satélite sobre la superficie de la Tierra es de: 394902990.3658825 metros.\n"
     ]
    }
   ],
   "source": [
    "import numpy as np\n",
    "import math as mt\n",
    "\n",
    "# Variables Globales\n",
    "G = 6.6743e-11 # Constante de Gravitación Universal (N*m^2)/(kg^2)\n",
    "M = 5972e24 # Masa de la Tierra (kg)\n",
    "pi = np.pi # Número Pi\n",
    "R = 6378000 # Radio de la Tierra (m)\n",
    "i = 0 # Variable para truncar el while\n",
    "\n",
    "while i<1:\n",
    "    T = float(input(\"Ingrese un valor para el periodo del satélite: \"))\n",
    "    \n",
    "    if (type(T) == float):\n",
    "        h = pow(((G*M*(T**2))/(4*(pi**2))), 1/3) - R\n",
    "        print(\"La altura a la que estará el satélite sobre la superficie de la Tierra es de:\", h, \"metros.\")\n",
    "        i = 2\n",
    "    else:\n",
    "        print(\"Ingrese un número válido.\")"
   ]
  },
  {
   "attachments": {},
   "cell_type": "markdown",
   "id": "87e65034-d225-4fda-bf67-444a4ff1490c",
   "metadata": {},
   "source": [
    "c) Utiliza tu programa para calcular las altitudes de los satélites que orbitan la Tierra una vez al día (la llamada orbita geoestacionaria), una vez cada 90 minutos y una vez cada 45 minutos. ¿Que concluyes de este último cálculo?"
   ]
  },
  {
   "cell_type": "code",
   "execution_count": 2,
   "id": "8f112ead-5bf3-4b6e-9e40-d13ddc7667ee",
   "metadata": {},
   "outputs": [
    {
     "name": "stdout",
     "output_type": "stream",
     "text": [
      "La altura a la que estará el satélite sobre la superficie de la Tierra es de: 416028984.181488 metros.\n"
     ]
    }
   ],
   "source": [
    "# Para facilitar la visualización en el Notebook de las respuestas, se definirá la variable T desde antes en vez de ser ingresada por el usuario.\n",
    "\n",
    "\n",
    "T = 86400 # Periodo de 24 horas o 86400 segundos\n",
    "\n",
    "h = pow(((G*M*(T**2))/(4*(pi**2))), 1/3) - R\n",
    "\n",
    "print(\"La altura a la que estará el satélite sobre la superficie de la Tierra es de:\", h, \"metros.\")\n"
   ]
  },
  {
   "cell_type": "code",
   "execution_count": 3,
   "id": "0a3a75a4-3d2a-4592-a449-6a11658b1f0e",
   "metadata": {},
   "outputs": [
    {
     "name": "stdout",
     "output_type": "stream",
     "text": [
      "La altura a la que estará el satélite sobre la superficie de la Tierra es de: 60146931.37410844 metros.\n"
     ]
    }
   ],
   "source": [
    "T = 5400 # Periodo de 90 minutos o 5,400 segundos\n",
    "\n",
    "h = pow(((G*M*(T**2))/(4*(pi**2))), 1/3) - R\n",
    "\n",
    "print(\"La altura a la que estará el satélite sobre la superficie de la Tierra es de:\", h, \"metros.\")"
   ]
  },
  {
   "cell_type": "code",
   "execution_count": 4,
   "id": "89ad3b84-24c6-4877-9335-cab617f52f98",
   "metadata": {},
   "outputs": [
    {
     "name": "stdout",
     "output_type": "stream",
     "text": [
      "La altura a la que estará el satélite sobre la superficie de la Tierra es de: 35530080.69052555 metros.\n"
     ]
    }
   ],
   "source": [
    "T = 2700 # Periodo de 45 minutos o 2,700 segundos\n",
    "\n",
    "h = pow(((G*M*(T**2))/(4*(pi**2))), 1/3) - R\n",
    "\n",
    "print(\"La altura a la que estará el satélite sobre la superficie de la Tierra es de:\", h, \"metros.\")"
   ]
  },
  {
   "cell_type": "markdown",
   "id": "a85b0c04-3aa6-4516-b601-bab52f3ce194",
   "metadata": {},
   "source": [
    "2. Paso de potencial cuántico\n",
    "\n",
    "Supongamos que tenemos una partícula con una masa igual a la masa del electron m = 9,11 × 10^−31 kg y energía de 10 eV, al encontrar un escalon de potencial de altura 9 eV. Escribe un programa en Python para calcular e imprimir las probabilidades de transmision y reflexión utilizando las fórmulas anteriores."
   ]
  },
  {
   "cell_type": "code",
   "execution_count": 5,
   "id": "5dbdbc90-f625-4cda-90bb-d744c66d902d",
   "metadata": {},
   "outputs": [
    {
     "name": "stdin",
     "output_type": "stream",
     "text": [
      "Introduzca el valor de la energía de la partícula en eV:  10\n",
      "Introduzca el valor del escalón de potencial en eV:  9\n"
     ]
    },
    {
     "name": "stdout",
     "output_type": "stream",
     "text": [
      "La probabilidad de transmisión de la partícula es de T = 0.7301261363877616\n",
      "La probabilidad de reflexión de la partícula es de R = 0.2698738636122385\n",
      "1.0\n"
     ]
    }
   ],
   "source": [
    "# Variables Globales\n",
    "m = 9.11e-31 # Masa del electrón (kg)\n",
    "# E = 10 # Energía de la partícula (eV)\n",
    "# V = 9 # Escalón de Potencial (eV)\n",
    "h_barra = 6.582119569e-16 # Constante de Planck (eV*s)\n",
    "j = 0\n",
    "\n",
    "def prob_ref_tra(E, V):\n",
    "    \n",
    "    k1 = (pow(2*m*E, 1/2))/h_barra\n",
    "    k2 = pow(2*m*(E-V), 1/2)/h_barra\n",
    "\n",
    "    T = (4*k1*k2)/pow(k1+k2,2)\n",
    "    R = pow((k1-k2)/(k1+k2),2)\n",
    "    \n",
    "    print(\"La probabilidad de transmisión de la partícula es de T =\", T)\n",
    "    print(\"La probabilidad de reflexión de la partícula es de R =\", R)\n",
    "    print(T+R)\n",
    "\n",
    "while j<1:\n",
    "    \n",
    "    E_c = float(input(\"Introduzca el valor de la energía de la partícula en eV: \"))\n",
    "    V_p = float(input(\"Introduzca el valor del escalón de potencial en eV: \"))\n",
    "    \n",
    "    if (E_c>V_p):\n",
    "        prob_ref_tra(E_c, V_p)\n",
    "        j = 2\n",
    "    \n",
    "    else:\n",
    "        print(\"Introduzca una energía de la partícula mayor al potencial encontrado.\")\n",
    "\n"
   ]
  },
  {
   "cell_type": "code",
   "execution_count": 6,
   "id": "e3e13bd4-35e4-4170-b07f-4ed67b120789",
   "metadata": {},
   "outputs": [
    {
     "name": "stdout",
     "output_type": "stream",
     "text": [
      "La probabilidad de transmisión de la partícula es de T = 0.7301261363877616\n",
      "La probabilidad de reflexión de la partícula es de R = 0.2698738636122385\n",
      "1.0\n"
     ]
    }
   ],
   "source": [
    "prob_ref_tra(10, 9)"
   ]
  },
  {
   "cell_type": "markdown",
   "id": "21bfa094-d7ec-4593-9d6c-07e35ed82956",
   "metadata": {},
   "source": [
    "3. Orbitas planetarias:\n",
    "\n",
    "b) Dados los valores de v1, l1, y l2; otros parámetros de la órbita se obtienen mediante fórmulas simples que pueden derivarse de las leyes de Kepler y del hecho de que la órbita es una elipse.\n",
    "\n",
    "Escribe un programa que le pida al usuario que ingrese la distancia al Sol y la velocidad en el perihelio; para que calcule e imprima las cantidades l2, v2, T y e."
   ]
  },
  {
   "cell_type": "code",
   "execution_count": 10,
   "id": "a8ef716a-15d8-4267-ba3c-13b128365bf7",
   "metadata": {},
   "outputs": [
    {
     "name": "stdin",
     "output_type": "stream",
     "text": [
      "Introduzca la distancia del planeta al Sol en el perihelio en metros:  1.4710e11\n",
      "Introduzca la velocidad del planeta en su perihelio en metros por segundo:  3.0287e4\n"
     ]
    },
    {
     "name": "stdout",
     "output_type": "stream",
     "text": [
      "La distancia del objeto al Sol en el afelio es de: 152027197208.65994 metros.\n",
      "La velocidad del objeto en su afelio es de: 29305.39917726127 metros por segundo.\n",
      "El periodo orbital del objeto es de: 31543060.207886923 segundos.\n",
      "La excetricidad orbital del objeto es de: 0.01647191313474219\n"
     ]
    }
   ],
   "source": [
    "# Variables Globales\n",
    "G = 6.6738e-11 # Constante de Gravitación Universal (N*m^2)/(kg^2)\n",
    "M = 1.9891e30 # Masa del Sol (kg)\n",
    "\n",
    "# Funciones\n",
    "def orbitas_planetarias(l1, v1):\n",
    "    v2 = (((2*G*M)/(l1*v1)) - np.sqrt(((4*(G**2)*(M**2))/((l1**2)*(v1**2)))-(4*(-(v1**2)+((2*G*M)/(l1))))))/2\n",
    "    l2 = (l1*v1)/v2\n",
    "    a = (l1+l2)/2\n",
    "    b = np.sqrt(l1*l2)\n",
    "    T = (2*np.pi*a*b)/(l1*v1)\n",
    "    e = (l2-l1)/(l2+l1)\n",
    "    \n",
    "    print(\"La distancia del objeto al Sol en el afelio es de:\", l2, \"metros.\")\n",
    "    print(\"La velocidad del objeto en su afelio es de:\", v2, \"metros por segundo.\")\n",
    "    print(\"El periodo orbital del objeto es de:\", T, \"segundos.\")\n",
    "    print(\"La excetricidad orbital del objeto es de:\", e)\n",
    "\n",
    "l = float(input(\"Introduzca la distancia del planeta al Sol en el perihelio en metros: \"))\n",
    "\n",
    "v = float(input(\"Introduzca la velocidad del planeta en su perihelio en metros por segundo: \"))\n",
    "\n",
    "orbitas_planetarias(l, v)\n"
   ]
  },
  {
   "cell_type": "markdown",
   "id": "0003c452-13d8-4cc4-8bf7-fced20a953e7",
   "metadata": {},
   "source": [
    "c) Prueba tu programa haciendo que calcule las propiedades de las orbitas de la Tierra (para las cuales l1 = 1.4710×10^11 m y v1 = 3.0287×10^4 m*s^−1) y del cometa Halley (l1 = 8.7830×10^10 m y v1 = 5.4529×10^4 m*s^−1). Entre otras cosas, deberías encontrar que el período orbital de la Tierra es de un año y el del cometa Halley es de unos 76 años."
   ]
  },
  {
   "cell_type": "code",
   "execution_count": 11,
   "id": "bff44764-36f7-4b43-a482-a596270d33d6",
   "metadata": {},
   "outputs": [
    {
     "name": "stdout",
     "output_type": "stream",
     "text": [
      "La distancia del objeto al Sol en el afelio es de: 152027197208.65994 metros.\n",
      "La velocidad del objeto en su afelio es de: 29305.39917726127 metros por segundo.\n",
      "El periodo orbital del objeto es de: 31543060.207886923 segundos.\n",
      "La excetricidad orbital del objeto es de: 0.01647191313474219\n"
     ]
    }
   ],
   "source": [
    "orbitas_planetarias(1.4710e11, 3.0287e4)"
   ]
  },
  {
   "cell_type": "code",
   "execution_count": 12,
   "id": "88b4283d-3377-4d39-ac3a-767333a23ea7",
   "metadata": {},
   "outputs": [
    {
     "name": "stdout",
     "output_type": "stream",
     "text": [
      "La distancia del objeto al Sol en el afelio es de: 5282214660876.441 metros.\n",
      "La velocidad del objeto en su afelio es de: 906.6806969191493 metros por segundo.\n",
      "El periodo orbital del objeto es de: 2399312511.8451877 segundos.\n",
      "La excetricidad orbital del objeto es de: 0.9672889126454061\n"
     ]
    }
   ],
   "source": [
    "orbitas_planetarias(8.7830e10, 5.4529e4)"
   ]
  },
  {
   "cell_type": "code",
   "execution_count": 14,
   "id": "bcd1b323-4d52-4538-b227-82d7cda4d324",
   "metadata": {},
   "outputs": [
    {
     "name": "stdout",
     "output_type": "stream",
     "text": [
      "0.999539261790723\n"
     ]
    }
   ],
   "source": [
    "# Segundos a años para la Tierra\n",
    "\n",
    "T_Tierra = 31543060.207886923*(1/31557600)\n",
    "print(T_Tierra)"
   ]
  },
  {
   "cell_type": "code",
   "execution_count": 15,
   "id": "504e8da4-514b-4943-b0f2-74d13f304bdf",
   "metadata": {},
   "outputs": [
    {
     "name": "stdout",
     "output_type": "stream",
     "text": [
      "76.02962556864867\n"
     ]
    }
   ],
   "source": [
    "# Segundos a años para el cometa Halley\n",
    "\n",
    "T_Halley = 2399312511.8451877*(1/31557600)\n",
    "print(T_Halley)"
   ]
  },
  {
   "cell_type": "code",
   "execution_count": null,
   "id": "e7ece457-e0fd-4a6d-bb56-6213208ae949",
   "metadata": {},
   "outputs": [],
   "source": []
  }
 ],
 "metadata": {
  "kernelspec": {
   "display_name": "Python 3 (ipykernel)",
   "language": "python",
   "name": "python3"
  },
  "language_info": {
   "codemirror_mode": {
    "name": "ipython",
    "version": 3
   },
   "file_extension": ".py",
   "mimetype": "text/x-python",
   "name": "python",
   "nbconvert_exporter": "python",
   "pygments_lexer": "ipython3",
   "version": "3.13.5"
  }
 },
 "nbformat": 4,
 "nbformat_minor": 5
}
