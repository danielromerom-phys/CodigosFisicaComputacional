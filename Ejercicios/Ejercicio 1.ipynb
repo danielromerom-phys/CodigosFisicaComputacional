{
 "cells": [
  {
   "cell_type": "markdown",
   "id": "86979b2b",
   "metadata": {},
   "source": [
    "# Ejercico 1"
   ]
  },
  {
   "cell_type": "markdown",
   "id": "cc3f6b34",
   "metadata": {},
   "source": [
    "## Caída de una pelota desde una torre: \n",
    "\n",
    "Se deja caer una pelota desde una torre de altura $h$. \n",
    "Tiene velocidad inicial cero y acelera hacia abajo por la acción de la gravedad.\n",
    "\n",
    "Escribe un programa que le pida al usuario que ingrese la altura en metros de la torre y luego calcule e imprima el tiempo en segundos hasta que la pelota toque el suelo\n",
    "(recuerda que el aire no existe).\n",
    "\n",
    "Despues, usa tu programa para calcular el tiempo de una pelota lanzada desde una torre de $100 \\, m$ de altura."
   ]
  },
  {
   "cell_type": "markdown",
   "id": "1accb674",
   "metadata": {},
   "source": [
    "$$\n",
    "t_f = \\sqrt{2h \\over g}\n",
    "$$"
   ]
  },
  {
   "cell_type": "code",
   "execution_count": null,
   "id": "e0e9d636",
   "metadata": {},
   "outputs": [],
   "source": [
    "# Bibliotecas\n",
    "import math as mt"
   ]
  },
  {
   "cell_type": "code",
   "execution_count": null,
   "id": "e7bcfb22",
   "metadata": {},
   "outputs": [],
   "source": [
    "# Constantes\n",
    "g = 9.81 #m/s2"
   ]
  },
  {
   "cell_type": "code",
   "execution_count": null,
   "id": "372d6ad2",
   "metadata": {},
   "outputs": [],
   "source": [
    "# Funciones\n",
    "def Tiempo(h):\n",
    "    t = mt.sqrt(2*h/g)\n",
    "    return t"
   ]
  },
  {
   "cell_type": "code",
   "execution_count": null,
   "id": "850b88ea",
   "metadata": {},
   "outputs": [],
   "source": [
    "# Resultado\n",
    "print(Tiempo(100), \" s\") # s"
   ]
  },
  {
   "cell_type": "code",
   "execution_count": null,
   "id": "1cfb5e74",
   "metadata": {},
   "outputs": [],
   "source": []
  },
  {
   "cell_type": "code",
   "execution_count": null,
   "id": "57cf263d",
   "metadata": {},
   "outputs": [],
   "source": []
  }
 ],
 "metadata": {
  "kernelspec": {
   "display_name": "Python 3 (ipykernel)",
   "language": "python",
   "name": "python3"
  },
  "language_info": {
   "codemirror_mode": {
    "name": "ipython",
    "version": 3
   },
   "file_extension": ".py",
   "mimetype": "text/x-python",
   "name": "python",
   "nbconvert_exporter": "python",
   "pygments_lexer": "ipython3",
   "version": "3.12.3"
  }
 },
 "nbformat": 4,
 "nbformat_minor": 5
}
