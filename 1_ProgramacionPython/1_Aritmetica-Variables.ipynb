{
 "cells": [
  {
   "cell_type": "markdown",
   "metadata": {
    "jp-MarkdownHeadingCollapsed": true
   },
   "source": [
    "<h1 align=\"center\">Física Computacional.</h1>\n",
    "<h1 align=\"center\">Semestre 2026-1</h1>\n",
    "\n",
    "<h2>Sergio A. Alcalá Corona </h2> \n",
    "\n",
    "---\n",
    "### Joel Gómez Uribe\n",
    "### Rodrigo Vega Vilchis\n",
    "---"
   ]
  },
  {
   "cell_type": "markdown",
   "metadata": {},
   "source": [
    "<h1 align=\"center\">Programación para la física computacional</h1> \n",
    "\n",
    "# 1.1. Fundamentos de programación\n",
    "\n",
    "---"
   ]
  },
  {
   "cell_type": "markdown",
   "metadata": {},
   "source": [
    "### Interprete de comandos de *Python* \n",
    "---"
   ]
  },
  {
   "cell_type": "markdown",
   "metadata": {},
   "source": [
    "**Python** es un interprete de comandos que se ejecuta en una consola (terminal de linux, Windows, Jupyter, Colab o algun programa especializado). En este se escriben comandos como **entrada** y el interprete regresa una respuesta como **salida**.\n",
    "\n",
    "Python puede guardar datos como texto o valores numéricos en variables, así como utilizar estructuras de control, lo que permite realizar instrucciones repetidamente o evaluar valores para poder tomar decisiones. De esta manera, se pueden escribir _**scripts**_ para  realizar cálculos de computo científico, ya que dispone de un extenso numero de bibliotecas (_libraries_) diseñadas para realizar fácilmente diferentes tareas.\n",
    "\n",
    "Es un lenguaje de programación (interpretado), que por si fuera poco es orientado a objetos, ya que las bibliotecas y funciones que se pueden construir permiten programarse y usarse bajo este paradigma. A pesar de su gran **robustez** y versatilidad Python es un lenguaje muy fácil de  aprender y de usar. Por lo que es ideal para comenzar a programar y como una herramienta eficaz para acercarse por primera vez al computo científico."
   ]
  },
  {
   "cell_type": "markdown",
   "metadata": {},
   "source": [
    "### *Ipython* y celdas de Jupyter\n",
    "\n",
    "**ipython** (*Interactive Python*) es un interprete de Python pero mucho mas robusto que el nativo (y es la base de los cuadernos de *Jupyter*), está diseñado para maximizar la productividad al utilizar Python. Aquí podemos encontrar ciertas facilidades, utilidades y comandos que no existen en otros interpretes de Python."
   ]
  },
  {
   "cell_type": "markdown",
   "metadata": {},
   "source": [
    "Por ejemplo una utilidad de gran ayuda es que se puede consultar la documentación (o sea, para qué sirve) de comandos, módulos y/o funciones de `python` usando `?` despues de la función."
   ]
  },
  {
   "cell_type": "code",
   "execution_count": null,
   "metadata": {},
   "outputs": [],
   "source": [
    "range?"
   ]
  },
  {
   "cell_type": "markdown",
   "metadata": {},
   "source": [
    "Las *Built-in Functions* son las funciones que vienen pre-cargadas en el _espacio común de trabajo_ de *python* sin necesidad de importar ninguna biblioteca.\n",
    "\n",
    "<a href=\"https://docs.python.org/3/library/functions.html\">Aqui</a> puedes encontrar más información al respecto.\n",
    "\n"
   ]
  },
  {
   "cell_type": "markdown",
   "metadata": {},
   "source": [
    "## BIBLIOTECAS\n",
    "\n",
    "La gran versatilidad de python vine dada en gran parte por el conjunto de **bibliotecas** que este ya tiene incorporadas, así que hay que aprovechar lo que ya esta hecho! Por ejemplo:\n",
    "\n",
    "* `python-numpy` **biblioteca de arreglos matemáticos**\n",
    "\n",
    "* `python-scipy` **rutinas para uso científico**\n",
    "\n",
    "* `python-matplotlib` **gráficas en 2 dimensiones**\n",
    "\n",
    "* `python-pandas` **para manejo de grandes conjuntos de datos con DataFrames**\n",
    "\n",
    "* `python-sklearn` **para Machine Learning**\n",
    "\n",
    "\n",
    "<!-- * `python-visual` **animaciones en 3 dimensiones**\n",
    "\n",
    "\n",
    "* `mayavi2` -->"
   ]
  },
  {
   "cell_type": "markdown",
   "metadata": {},
   "source": [
    "\n",
    "## El ecosistema Científico de python\n",
    "<p>\n",
    "$\\;$\n",
    "<p>\n",
    "\n",
    "<!-- ![ScyentificPythpn_Ecosystem.png](attachment:ScyentificPythpn_Ecosystem.png) -->\n",
    "<div align=\"center\">\n",
    "    <img src=\"ScyentificPythpn_Ecosystem.png\">\n",
    "</div>\n",
    "\n",
    "Estas serán las bibliotecas principales que estaremos usando durante el curso."
   ]
  },
  {
   "cell_type": "markdown",
   "metadata": {},
   "source": [
    "Para instalar **bibliotecas** en python podemos correr desde la Terminal (**bash** en linux, **cmd** en Windows o la terminal de **mac**) el siguiete comando\n",
    "\n",
    "`python -m pip install` *`BIBLIOTECA`*"
   ]
  },
  {
   "cell_type": "markdown",
   "metadata": {},
   "source": [
    "Python cuenta una biblioteca estándar amplia, lo cual siempre está disponible en cualquier instalación de Python.\n",
    "\n",
    "La documentación para esta biblioteca está disponible en http://docs.python.org/library/\n",
    "\n",
    "Sin embargo para poder hacer un uso mucho más amplio y poderoso de python se puede hacer uso del resto de las bibliotecas disponibles una vez que estén instaladas. Por ejemplo para llevar a cabo cálculos con funciones más avanzadas, es necesario **importar** la biblioteca estándar de matemáticas `math`.\n",
    "\n",
    "Así ya instaladas se puede hacer uso de las bibliotecas **importándolas**, para que *python* sepa que las debe usar.\n",
    "\n",
    "Para esto se debe dar una instrucción especial (*sentencia de importación*) para que python (ya sea en el *interprete de comandos*, `Ipython`, `Jupyter` bien en un *script*) pueda acceder a ellas.\n",
    "\n",
    "Para poder usar una biblioteca (o parte de ella) simplemente se tiene que indicar que biblioteca estamos llamando e importar de ella lo que vamos a usar. Por ejemplo, se puede importar parcialmente una biblioteca. Es decir, sólo la sub-biblioteca que nos interese:"
   ]
  },
  {
   "cell_type": "code",
   "execution_count": null,
   "metadata": {},
   "outputs": [],
   "source": [
    "from scipy import stats"
   ]
  },
  {
   "cell_type": "markdown",
   "metadata": {},
   "source": [
    "o bien una por una conforme las vayamos necesitando:"
   ]
  },
  {
   "cell_type": "code",
   "execution_count": null,
   "metadata": {},
   "outputs": [],
   "source": [
    "from math import log\n",
    "from math import exp"
   ]
  },
  {
   "cell_type": "markdown",
   "metadata": {},
   "source": [
    "o incluso, varias a la vez:"
   ]
  },
  {
   "cell_type": "code",
   "execution_count": null,
   "metadata": {},
   "outputs": [],
   "source": [
    "from math import log,exp,sin,cos,sqrt,pi,e"
   ]
  },
  {
   "cell_type": "markdown",
   "metadata": {},
   "source": [
    "También es posible importar **todas** las funciones de la biblioteca al _espacio común de trabajo_:"
   ]
  },
  {
   "cell_type": "code",
   "execution_count": null,
   "metadata": {},
   "outputs": [],
   "source": [
    "from fractions import *"
   ]
  },
  {
   "cell_type": "markdown",
   "metadata": {},
   "source": [
    "A continuación se importan **todas** las funciones de la biblioteca `math`."
   ]
  },
  {
   "cell_type": "code",
   "execution_count": null,
   "metadata": {},
   "outputs": [],
   "source": [
    "from math import *"
   ]
  },
  {
   "cell_type": "markdown",
   "metadata": {},
   "source": [
    "o de manera alternativa"
   ]
  },
  {
   "cell_type": "code",
   "execution_count": null,
   "metadata": {},
   "outputs": [],
   "source": [
    "import math "
   ]
  },
  {
   "cell_type": "markdown",
   "metadata": {},
   "source": [
    "**NOTA**: Cuando llamamos una función de una biblioteca que no está instalada o no se ha importado python nos reportará un error."
   ]
  },
  {
   "cell_type": "markdown",
   "metadata": {},
   "source": [
    "Asimismo, podemos importar una función desde un módulo particular de una biblioteca, de la siguiente manera:"
   ]
  },
  {
   "cell_type": "code",
   "execution_count": null,
   "metadata": {},
   "outputs": [],
   "source": [
    "from numpy.linalg import inv"
   ]
  },
  {
   "cell_type": "markdown",
   "metadata": {},
   "source": [
    "Una forma muy comun de importar una biblioteca es bajo un *alias* (sobrenombre), por ejemplo:"
   ]
  },
  {
   "cell_type": "code",
   "execution_count": null,
   "metadata": {},
   "outputs": [],
   "source": [
    "import math as mt"
   ]
  },
  {
   "cell_type": "code",
   "execution_count": null,
   "metadata": {},
   "outputs": [],
   "source": [
    "import pandas as pd"
   ]
  },
  {
   "cell_type": "markdown",
   "metadata": {},
   "source": [
    "Lo anterior nos permite importar varias bibliotecas a la vez, pero tener sus funcionalidades separadas, sin que se confundan\n"
   ]
  },
  {
   "cell_type": "code",
   "execution_count": null,
   "metadata": {},
   "outputs": [],
   "source": [
    "import math as mt\n",
    "import numpy as np\n",
    "import matplotlib.pyplot as plt"
   ]
  },
  {
   "cell_type": "code",
   "execution_count": null,
   "metadata": {},
   "outputs": [],
   "source": [
    "np.pi"
   ]
  },
  {
   "cell_type": "code",
   "execution_count": null,
   "metadata": {},
   "outputs": [],
   "source": [
    "math.sin(np.pi/2)"
   ]
  },
  {
   "cell_type": "code",
   "execution_count": null,
   "metadata": {},
   "outputs": [],
   "source": [
    "plt.plot?"
   ]
  },
  {
   "cell_type": "markdown",
   "metadata": {},
   "source": [
    "A continuación se importa la función `Fraction` de la biblioteca `fractions` usando el *alias* FC:"
   ]
  },
  {
   "cell_type": "code",
   "execution_count": null,
   "metadata": {},
   "outputs": [],
   "source": [
    "from fractions import Fraction as FC"
   ]
  },
  {
   "cell_type": "code",
   "execution_count": null,
   "metadata": {},
   "outputs": [],
   "source": [
    "FC."
   ]
  },
  {
   "cell_type": "markdown",
   "metadata": {},
   "source": [
    "O también:"
   ]
  },
  {
   "cell_type": "code",
   "execution_count": null,
   "metadata": {},
   "outputs": [],
   "source": [
    "import fractions as fc"
   ]
  },
  {
   "cell_type": "code",
   "execution_count": null,
   "metadata": {},
   "outputs": [],
   "source": [
    "fc.Fraction.is_integer"
   ]
  },
  {
   "cell_type": "code",
   "execution_count": null,
   "metadata": {},
   "outputs": [],
   "source": []
  },
  {
   "cell_type": "markdown",
   "metadata": {},
   "source": [
    "Podemos consultar el `código fuente` de las funciones haciendo uso de la biblioteca `inspect`:"
   ]
  },
  {
   "cell_type": "code",
   "execution_count": null,
   "metadata": {},
   "outputs": [],
   "source": [
    "import inspect as insp\n",
    "\n",
    "funcion = fc.Fraction.limit_denominator\n",
    "\n",
    "codigo_fuente = insp.getsource(funcion)\n",
    "print(codigo_fuente)"
   ]
  },
  {
   "cell_type": "code",
   "execution_count": null,
   "metadata": {},
   "outputs": [],
   "source": []
  },
  {
   "cell_type": "markdown",
   "metadata": {},
   "source": [
    "*Python* también es un poderoso lenguaje **orientado a objetos**.\n",
    "\n",
    "Cada **\"cosa\"** en *Python* es un **objeto**, que tiene propiedades y operaciones disponibles (**métodos**). \n",
    "\n",
    "Por ejemplo, `Fraction` es un tipo de objeto (**clase**); sus operaciones están disponibles en *Ipython* a través de `Fraction.<TAB>`. \n",
    "\n",
    "Las que empiezan con `__` son internos y deberan de ignorarse por el momento; las demás son accesibles al usuario."
   ]
  },
  {
   "cell_type": "code",
   "execution_count": null,
   "metadata": {},
   "outputs": [],
   "source": [
    "import math as mt\n",
    "import numpy as np\n",
    "import matplotlib.pyplot as plt\n",
    "import pandas as pd"
   ]
  },
  {
   "cell_type": "code",
   "execution_count": null,
   "metadata": {},
   "outputs": [],
   "source": []
  },
  {
   "cell_type": "markdown",
   "metadata": {},
   "source": [
    "#### Manejo de Información\n",
    "\n",
    "Python (ya sea mediante el interprete de comandos o bien mediante el entorno *Ipython* o *Jupyter*) nos permite resolver problemas y realizar operaciones matemáticas de una manera  interactiva, en la que se ejecutan comandos (entrada) y *python* a su vez da una respuesta (salida) en el mismo momento."
   ]
  },
  {
   "cell_type": "markdown",
   "metadata": {},
   "source": [
    "---\n",
    "## 1.1.1 Aritmética, variables y tipos de datos\n",
    "---\n",
    "$\\;$\n",
    "### Aritmética \n",
    "\n",
    "---\n",
    "*python* se puede usar como si fuera una **calculadora** muy potente.\n",
    "\n",
    "De esta manera podemos realizar funciones aritméticas usando los operadores que ya se han mencionado y que son estándares en casi todos los lenguajes de programación Suma (`+`), Resta (`-`), Producto (`*`), División (`/`)."
   ]
  },
  {
   "cell_type": "code",
   "execution_count": null,
   "metadata": {},
   "outputs": [],
   "source": [
    "3 + 2 + 200000 + 9"
   ]
  },
  {
   "cell_type": "code",
   "execution_count": null,
   "metadata": {},
   "outputs": [],
   "source": [
    "3 * (-7.1 + 10**3)"
   ]
  },
  {
   "cell_type": "code",
   "execution_count": null,
   "metadata": {},
   "outputs": [],
   "source": [
    "for i in range(11):\n",
    "    print(2**i)"
   ]
  },
  {
   "cell_type": "markdown",
   "metadata": {},
   "source": [
    "Aquí `**` indica una potencia, y los paréntesis alteran la prioridad en las operaciones.\n"
   ]
  },
  {
   "cell_type": "markdown",
   "metadata": {},
   "source": [
    "Los números sin punto decimal se consideran enteros, y los con punto decimal flotantes (de doble precisión).\n",
    "\n",
    "Los enteros pueden ser arbitrariamente grandes:"
   ]
  },
  {
   "cell_type": "code",
   "execution_count": null,
   "metadata": {},
   "outputs": [],
   "source": [
    "a = 2 ** (2 ** (2 ** 2)) "
   ]
  },
  {
   "cell_type": "code",
   "execution_count": null,
   "metadata": {},
   "outputs": [],
   "source": [
    "a+9"
   ]
  },
  {
   "cell_type": "markdown",
   "metadata": {},
   "source": [
    "$a = 2^{2^{2^2}}$\n",
    "\n",
    "$a = 2^{2^{4}}$\n",
    "\n",
    "$a = 2^{16}$"
   ]
  },
  {
   "cell_type": "code",
   "execution_count": null,
   "metadata": {},
   "outputs": [],
   "source": [
    "a = 2 ** 2 ** 2 ** 2\n",
    "a = a ** 2 ** 2\n"
   ]
  },
  {
   "cell_type": "markdown",
   "metadata": {},
   "source": [
    "Corre la siguiente celda para ver que número es `a`"
   ]
  },
  {
   "cell_type": "code",
   "execution_count": null,
   "metadata": {},
   "outputs": [],
   "source": [
    "print(a)"
   ]
  },
  {
   "cell_type": "code",
   "execution_count": null,
   "metadata": {},
   "outputs": [],
   "source": [
    "b = 0.55"
   ]
  },
  {
   "cell_type": "code",
   "execution_count": null,
   "metadata": {},
   "outputs": [],
   "source": [
    "a+b"
   ]
  },
  {
   "cell_type": "code",
   "execution_count": null,
   "metadata": {},
   "outputs": [],
   "source": [
    "print(a**2)"
   ]
  },
  {
   "cell_type": "markdown",
   "metadata": {},
   "source": [
    "Python también cuenta con números complejos, utilizando la notación `1j` para la raiz de `−1`:"
   ]
  },
  {
   "cell_type": "code",
   "execution_count": null,
   "metadata": {},
   "outputs": [],
   "source": [
    "1 + 3j"
   ]
  },
  {
   "cell_type": "code",
   "execution_count": null,
   "metadata": {},
   "outputs": [],
   "source": [
    "1j * 1j"
   ]
  },
  {
   "cell_type": "code",
   "execution_count": null,
   "metadata": {},
   "outputs": [],
   "source": [
    "1j # sólito, da un error"
   ]
  },
  {
   "cell_type": "code",
   "execution_count": null,
   "metadata": {},
   "outputs": [],
   "source": [
    "a = 25.663"
   ]
  },
  {
   "cell_type": "code",
   "execution_count": null,
   "metadata": {},
   "outputs": [],
   "source": [
    "c = .63"
   ]
  },
  {
   "cell_type": "code",
   "execution_count": null,
   "metadata": {},
   "outputs": [],
   "source": [
    "c = int(c)\n",
    "type(c)"
   ]
  },
  {
   "cell_type": "markdown",
   "metadata": {},
   "source": [
    "También existen operaciones para manejar la parte entera ( `//`) y el residuo de una divisón ( `operacion modulo` `%`):"
   ]
  },
  {
   "cell_type": "code",
   "execution_count": null,
   "metadata": {},
   "outputs": [],
   "source": [
    "13/5"
   ]
  },
  {
   "cell_type": "code",
   "execution_count": null,
   "metadata": {},
   "outputs": [],
   "source": [
    "10//5  #parte entera\n"
   ]
  },
  {
   "cell_type": "code",
   "execution_count": null,
   "metadata": {},
   "outputs": [],
   "source": [
    "10%5  # modulo"
   ]
  },
  {
   "cell_type": "code",
   "execution_count": null,
   "metadata": {},
   "outputs": [],
   "source": [
    "156456/6"
   ]
  },
  {
   "cell_type": "code",
   "execution_count": null,
   "metadata": {},
   "outputs": [],
   "source": [
    "2+3j/1-7j"
   ]
  },
  {
   "cell_type": "code",
   "execution_count": null,
   "metadata": {},
   "outputs": [],
   "source": []
  },
  {
   "cell_type": "markdown",
   "metadata": {},
   "source": [
    "`#` indica un comentario (no se lee, por lo que no cuenta) que se extiende hasta el final de la línea."
   ]
  },
  {
   "cell_type": "code",
   "execution_count": null,
   "metadata": {},
   "outputs": [],
   "source": [
    "print(5*4)\n",
    "# Esto es un \"comentario\" (no se lee, por lo que no cuenta) que se extiende hasta el final de la línea.\n",
    "a = float(3*8)\n",
    "print(int(a))"
   ]
  },
  {
   "cell_type": "markdown",
   "metadata": {},
   "source": [
    "*Python* también incluye **en la biblioteca `math`** valores para números irracionales muy usados como $e$ y $\\pi$:"
   ]
  },
  {
   "cell_type": "code",
   "execution_count": null,
   "metadata": {},
   "outputs": [],
   "source": [
    "import math as mt\n"
   ]
  },
  {
   "cell_type": "code",
   "execution_count": null,
   "metadata": {},
   "outputs": [],
   "source": [
    "mt.e"
   ]
  },
  {
   "cell_type": "code",
   "execution_count": null,
   "metadata": {},
   "outputs": [],
   "source": [
    "print(mt.pi**2)"
   ]
  },
  {
   "cell_type": "markdown",
   "metadata": {},
   "source": [
    "Así como funciones muy utiles como el *logaritmo natural* $\\ln(x)$ o la exponencial $e^x$"
   ]
  },
  {
   "cell_type": "code",
   "execution_count": null,
   "metadata": {},
   "outputs": [],
   "source": [
    "print(mt.log(1.75))\n",
    "print(mt.exp(1.75))"
   ]
  },
  {
   "cell_type": "code",
   "execution_count": null,
   "metadata": {},
   "outputs": [],
   "source": []
  },
  {
   "cell_type": "markdown",
   "metadata": {},
   "source": [
    "$\\;$\n",
    "### Variables y tipos de datos\n",
    "\n",
    "---\n",
    "\n",
    "Para llevar a cabo cálculos, necesitamos **variables**.\n",
    "Las variables se declaran sin **necesidad de indicar su tipo de dato** (entero, flotante, etc.):"
   ]
  },
  {
   "cell_type": "code",
   "execution_count": null,
   "metadata": {},
   "outputs": [],
   "source": [
    "a = 3   # entero\n",
    "b = 17.5   # flotante\n",
    "c = 1 + 3j  # complejo\n",
    "\n",
    "print (a + b / c)"
   ]
  },
  {
   "cell_type": "markdown",
   "metadata": {},
   "source": [
    "Python reconoce de manera automática el tipo de la variable según su forma. \n",
    "\n",
    "La función **`print()`** imprime el argumento (valor interior) de la variable."
   ]
  },
  {
   "cell_type": "markdown",
   "metadata": {},
   "source": [
    "Recordemos que el símbolo `=` **no es equivalente al símbolo igual en matemáticas**, en programación este símbolo significa **asignación** (es decir, guardar un valor en una variable) y asimismo sirve para reasignarle un valor a la misma. \n",
    "\n",
    "En python, al reasignar una variable, se pierde la información de su valor interior, incluyendo el tipo:"
   ]
  },
  {
   "cell_type": "code",
   "execution_count": null,
   "metadata": {},
   "outputs": [],
   "source": [
    "a = 3\n",
    "print(a)\n",
    "\n",
    "a = -5.5\n",
    "print(a)"
   ]
  },
  {
   "cell_type": "markdown",
   "metadata": {},
   "source": [
    "Por lo que hay que tener cuidado al usar el el símbolo `=` para no perder información."
   ]
  },
  {
   "cell_type": "markdown",
   "metadata": {},
   "source": [
    "#### Conversión entre tipos de datos.\n",
    "\n",
    "Aunque no haya que declararlos al definir variables, hay distintos tipos de números en Python, principalmente enteros (**`int`**) y flotantes (**`float`**).\n",
    "\n",
    "Para convertir entre diferentes tipos, incluyendo cadenas, podemos utilizar:"
   ]
  },
  {
   "cell_type": "code",
   "execution_count": null,
   "metadata": {},
   "outputs": [],
   "source": [
    "type(float('3.1416'))"
   ]
  },
  {
   "cell_type": "code",
   "execution_count": null,
   "metadata": {},
   "outputs": [],
   "source": [
    "a = float(3)\n",
    "print(a)\n",
    "\n",
    "# pi_short = float('3.1416')\n",
    "pi_short = '3.1416'\n",
    "print(pi_short)\n",
    "\n",
    "# Mypi = int(pi_short)\n",
    "# print(Mypi)\n",
    "\n",
    "b = int(17.)\n",
    "print(b)\n",
    "\n",
    "# edad = int(\"19\")\n",
    "edad = \"18888\"\n",
    "print(edad)\n",
    "\n",
    "year = str(1998)\n",
    "print(year)"
   ]
  },
  {
   "cell_type": "code",
   "execution_count": null,
   "metadata": {},
   "outputs": [],
   "source": [
    "pi_short+edad"
   ]
  },
  {
   "cell_type": "markdown",
   "metadata": {},
   "source": [
    "Las _\"palabras\"_ en Python son `cadenas` de caracteres entre apóstrofes o comillas."
   ]
  },
  {
   "cell_type": "code",
   "execution_count": null,
   "metadata": {},
   "outputs": [],
   "source": [
    "\"hola\"\n",
    "'mi edad es: '"
   ]
  },
  {
   "cell_type": "markdown",
   "metadata": {},
   "source": [
    "se pueden concaternar cadenas usado el simbolo `+`"
   ]
  },
  {
   "cell_type": "code",
   "execution_count": null,
   "metadata": {},
   "outputs": [],
   "source": [
    "cadena = \"hola \" + 'mi edad es: '"
   ]
  },
  {
   "cell_type": "code",
   "execution_count": null,
   "metadata": {},
   "outputs": [],
   "source": [
    "cadena"
   ]
  },
  {
   "cell_type": "code",
   "execution_count": null,
   "metadata": {},
   "outputs": [],
   "source": [
    "len(cadena)"
   ]
  },
  {
   "cell_type": "code",
   "execution_count": null,
   "metadata": {},
   "outputs": [],
   "source": []
  },
  {
   "cell_type": "markdown",
   "metadata": {},
   "source": [
    "### **Ejercicio:**\n",
    "\n",
    "Supongamos que tenemos la posición de un punto en un espacio bidimensional en coordenadas polares $r$,$\\theta$ y queremos convertirlo a coordenadas cartesianas $x$, $y$. ¿Cómo escribiríamos un programa para hacer esto?"
   ]
  },
  {
   "cell_type": "code",
   "execution_count": null,
   "metadata": {},
   "outputs": [],
   "source": []
  },
  {
   "cell_type": "code",
   "execution_count": null,
   "metadata": {},
   "outputs": [],
   "source": []
  },
  {
   "cell_type": "code",
   "execution_count": null,
   "metadata": {},
   "outputs": [],
   "source": []
  },
  {
   "cell_type": "markdown",
   "metadata": {},
   "source": [
    "### **Ejercicio:**\n",
    "\n",
    "Escribe un programa para realizar la operación inversa a la del ejemplo anterior. Es decir, pedir al usuario las coordenadas cartesianas $x$, $y$ de un punto en un espacio bidimensional, y calcular e imprimir las coordenadas polares correspondientes, con el ángulo $\\theta$ dado en grados."
   ]
  },
  {
   "cell_type": "code",
   "execution_count": null,
   "metadata": {},
   "outputs": [],
   "source": []
  },
  {
   "cell_type": "code",
   "execution_count": null,
   "metadata": {},
   "outputs": [],
   "source": []
  },
  {
   "cell_type": "code",
   "execution_count": null,
   "metadata": {},
   "outputs": [],
   "source": []
  }
 ],
 "metadata": {
  "@webio": {
   "lastCommId": null,
   "lastKernelId": null
  },
  "kernelspec": {
   "display_name": "Python 3 (ipykernel)",
   "language": "python",
   "name": "python3"
  },
  "language_info": {
   "codemirror_mode": {
    "name": "ipython",
    "version": 3
   },
   "file_extension": ".py",
   "mimetype": "text/x-python",
   "name": "python",
   "nbconvert_exporter": "python",
   "pygments_lexer": "ipython3",
   "version": "3.12.3"
  }
 },
 "nbformat": 4,
 "nbformat_minor": 4
}
